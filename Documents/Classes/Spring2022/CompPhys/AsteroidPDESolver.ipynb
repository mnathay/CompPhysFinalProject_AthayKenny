{
 "cells": [
  {
   "cell_type": "code",
   "execution_count": 2,
   "id": "510ba181",
   "metadata": {},
   "outputs": [],
   "source": [
    "import numpy as np\n",
    "import matplotlib.pyplot as plt\n",
    "import scipy\n",
    "from scipy.special import erfc\n",
    "from PIL import Image as im \n",
    "from matplotlib import animation, rc\n",
    "plt.rc('animation', html='jshtml')\n",
    "from IPython.display import HTML\n",
    "import subprocess as sp\n",
    "import sys,math\n",
    "\n",
    "import matplotlib.font_manager\n",
    "from IPython.core.display import HTML\n",
    "# def make_html(fontname):\n",
    "#     return \"<p>{font}: <span style='font-family:{font}; font-size: 24px;'>{font}</p>\".format(font=fontname)\n",
    "# code = \"\\n\".join([make_html(font) for font in sorted(set([f.name for f in matplotlib.font_manager.fontManager.ttflist]))])\n",
    "# HTML(\"<div style='column-count: 2;'>{}</div>\".format(code))"
   ]
  },
  {
   "cell_type": "code",
   "execution_count": 3,
   "id": "83c4a75f",
   "metadata": {},
   "outputs": [],
   "source": [
    "def trackPercent(place,totalLength,strLen): #percent output tracker\n",
    "    percent = place/totalLength*100\n",
    "    if math.floor(percent)==69:\n",
    "        string=\"{:.2f} % complete -- nice\".format(percent)\n",
    "    else:\n",
    "        string=\"{:.2f} % complete\".format(percent)\n",
    "    sys.stdout.write(\"\\r\") #this \"moves the cursor\" to the beginning of the I0 line\n",
    "    sys.stdout.write(\" \"*strLen) #this \"clears\" whatever was on the line last time by writing whitespace\n",
    "    sys.stdout.write(\"\\r\") #move the cursor back to the start again\n",
    "    sys.stdout.write(string) #display the current percent we are at\n",
    "    sys.stdout.flush() #flush finishes call to print() (this is like what's under the hood of print function)\n",
    "    strLen=len(string) #return the new string length for next function call\n",
    "    return strLen"
   ]
  },
  {
   "cell_type": "markdown",
   "id": "eea8e22f",
   "metadata": {},
   "source": [
    "We will solve Stoke's 2nd problem: diffusion of heat through a solid object. Specifically, we want to study how the temperature inside a rotating asteroid changes as it receives heat from the Sun. The simplest equation to describe this problem is the 1D diffusion equation\n",
    "\n",
    "## $\\frac{\\partial T}{\\partial t} = \\kappa \\frac{\\partial^{2} T}{\\partial z^{2}} $,\n",
    "\n",
    "where $\\kappa$ is the diffusion coefficient, describing how quickly the heat transfer takes place. The temperature at the surface can be described as $ T(t, 0) = T_{0}cos(\\omega t)$ and appropriate constants $\\omega$ and $\\kappa$ as well as appropriate boundary conditions can be chosen.\n",
    "\n",
    "This one-dimensional heat equation is analytically solvable, so we can compare our numerical solutions to analytic ones. We also plan to add additional terms to explore more interesting physics, such as radiative losses or terms to describe an inhomogenous material. Furthermore, we will think about whether we could add a physically relevant convective term too.\n",
    "\n",
    "\n",
    "## <center> Asteroid Data:\n",
    "    \n",
    "* Rotation rates typically 4-24 hr\n",
    "* Diameters from 10m to 500km\n",
    "    \n",
    "    \n",
    "https://canvas.colorado.edu/courses/64461/files/25494729?module_item_id=2409565"
   ]
  },
  {
   "cell_type": "code",
   "execution_count": 4,
   "id": "f1f296ae",
   "metadata": {},
   "outputs": [],
   "source": [
    "def pde_solver(L, t_tot, T0, kappa, dt, dz, omega):\n",
    "    \n",
    "    '''\n",
    "    Solve the 1d diffusion equation using finite differences method, with inputs for the \n",
    "    spatial range (L), total time (t), initial condition (T0), diffusion coeffecient \n",
    "    (kappa), number of timesteps (Nt), number of spatial nodes (Nz), and frequency (omega)\n",
    "    '''\n",
    "    \n",
    "    # Define space and time arrays \n",
    "    \n",
    "    z = np.arange(0, L , dz) # Or dz = z[1] - z[0]\n",
    "    Nz = len(z)\n",
    "    t = np.arange(0, t_tot, dt) # How long do we want to let it go for? A few days?\n",
    "    Nt = len(t)\n",
    "    \n",
    "    r = kappa*dt/(dz**2) # Diffusion condition\n",
    "    print(\"Condition on step sizes: \", dt < (dz**2)/2)\n",
    "\n",
    "    T = np.zeros((Nt+1, Nz+2)) # Initialize temp. array\n",
    "\n",
    "    # Set initial condition \n",
    "    T[0,:] = 0\n",
    "     \n",
    "    str_len = 0\n",
    "    # Insert boundary conditions\n",
    "    T[1:,0] = T0*(np.cos(omega*t)+1)\n",
    "#     T[1:,-1] = T0*(np.cos(omega*t + np.pi)+1)\n",
    "\n",
    "    for i in range(1, Nt):\n",
    "        \n",
    "        # Compute u at inner mesh points for i in range(1, Nz):\n",
    "        T[i,1:-1] =  T[i-1,1:-1] + r * (T[i-1,2:] - 2*T[i-1,1:-1] + T[i-1,:-2]) \n",
    "                     \n",
    "        str_len = trackPercent(i,Nt,str_len)\n",
    "        str_len += 1\n",
    "\n",
    "        \n",
    "    T = T[:,1:-1]\n",
    "    print(\"T, z shapes: \", T.shape, z.shape)\n",
    "    return T, z, t, L\n"
   ]
  },
  {
   "cell_type": "code",
   "execution_count": 12,
   "id": "8ed923cb",
   "metadata": {},
   "outputs": [
    {
     "name": "stdout",
     "output_type": "stream",
     "text": [
      "Condition on step sizes:  True\n",
      "8.76 % complete "
     ]
    },
    {
     "name": "stderr",
     "output_type": "stream",
     "text": [
      "IOPub message rate exceeded.\n",
      "The notebook server will temporarily stop sending output\n",
      "to the client in order to avoid crashing it.\n",
      "To change this limit, set the config variable\n",
      "`--NotebookApp.iopub_msg_rate_limit`.\n",
      "\n",
      "Current values:\n",
      "NotebookApp.iopub_msg_rate_limit=1000.0 (msgs/sec)\n",
      "NotebookApp.rate_limit_window=3.0 (secs)\n",
      "\n"
     ]
    },
    {
     "name": "stdout",
     "output_type": "stream",
     "text": [
      "19.49 % complete "
     ]
    },
    {
     "name": "stderr",
     "output_type": "stream",
     "text": [
      "IOPub message rate exceeded.\n",
      "The notebook server will temporarily stop sending output\n",
      "to the client in order to avoid crashing it.\n",
      "To change this limit, set the config variable\n",
      "`--NotebookApp.iopub_msg_rate_limit`.\n",
      "\n",
      "Current values:\n",
      "NotebookApp.iopub_msg_rate_limit=1000.0 (msgs/sec)\n",
      "NotebookApp.rate_limit_window=3.0 (secs)\n",
      "\n"
     ]
    },
    {
     "name": "stdout",
     "output_type": "stream",
     "text": [
      "26.77 % complete "
     ]
    },
    {
     "name": "stderr",
     "output_type": "stream",
     "text": [
      "IOPub message rate exceeded.\n",
      "The notebook server will temporarily stop sending output\n",
      "to the client in order to avoid crashing it.\n",
      "To change this limit, set the config variable\n",
      "`--NotebookApp.iopub_msg_rate_limit`.\n",
      "\n",
      "Current values:\n",
      "NotebookApp.iopub_msg_rate_limit=1000.0 (msgs/sec)\n",
      "NotebookApp.rate_limit_window=3.0 (secs)\n",
      "\n"
     ]
    },
    {
     "name": "stdout",
     "output_type": "stream",
     "text": [
      "34.14 % complete "
     ]
    },
    {
     "name": "stderr",
     "output_type": "stream",
     "text": [
      "IOPub message rate exceeded.\n",
      "The notebook server will temporarily stop sending output\n",
      "to the client in order to avoid crashing it.\n",
      "To change this limit, set the config variable\n",
      "`--NotebookApp.iopub_msg_rate_limit`.\n",
      "\n",
      "Current values:\n",
      "NotebookApp.iopub_msg_rate_limit=1000.0 (msgs/sec)\n",
      "NotebookApp.rate_limit_window=3.0 (secs)\n",
      "\n"
     ]
    },
    {
     "name": "stdout",
     "output_type": "stream",
     "text": [
      "42.24 % complete "
     ]
    },
    {
     "name": "stderr",
     "output_type": "stream",
     "text": [
      "IOPub message rate exceeded.\n",
      "The notebook server will temporarily stop sending output\n",
      "to the client in order to avoid crashing it.\n",
      "To change this limit, set the config variable\n",
      "`--NotebookApp.iopub_msg_rate_limit`.\n",
      "\n",
      "Current values:\n",
      "NotebookApp.iopub_msg_rate_limit=1000.0 (msgs/sec)\n",
      "NotebookApp.rate_limit_window=3.0 (secs)\n",
      "\n"
     ]
    },
    {
     "name": "stdout",
     "output_type": "stream",
     "text": [
      "50.19 % complete "
     ]
    },
    {
     "name": "stderr",
     "output_type": "stream",
     "text": [
      "IOPub message rate exceeded.\n",
      "The notebook server will temporarily stop sending output\n",
      "to the client in order to avoid crashing it.\n",
      "To change this limit, set the config variable\n",
      "`--NotebookApp.iopub_msg_rate_limit`.\n",
      "\n",
      "Current values:\n",
      "NotebookApp.iopub_msg_rate_limit=1000.0 (msgs/sec)\n",
      "NotebookApp.rate_limit_window=3.0 (secs)\n",
      "\n"
     ]
    },
    {
     "name": "stdout",
     "output_type": "stream",
     "text": [
      "57.73 % complete "
     ]
    },
    {
     "name": "stderr",
     "output_type": "stream",
     "text": [
      "IOPub message rate exceeded.\n",
      "The notebook server will temporarily stop sending output\n",
      "to the client in order to avoid crashing it.\n",
      "To change this limit, set the config variable\n",
      "`--NotebookApp.iopub_msg_rate_limit`.\n",
      "\n",
      "Current values:\n",
      "NotebookApp.iopub_msg_rate_limit=1000.0 (msgs/sec)\n",
      "NotebookApp.rate_limit_window=3.0 (secs)\n",
      "\n"
     ]
    },
    {
     "name": "stdout",
     "output_type": "stream",
     "text": [
      "67.05 % complete "
     ]
    },
    {
     "name": "stderr",
     "output_type": "stream",
     "text": [
      "IOPub message rate exceeded.\n",
      "The notebook server will temporarily stop sending output\n",
      "to the client in order to avoid crashing it.\n",
      "To change this limit, set the config variable\n",
      "`--NotebookApp.iopub_msg_rate_limit`.\n",
      "\n",
      "Current values:\n",
      "NotebookApp.iopub_msg_rate_limit=1000.0 (msgs/sec)\n",
      "NotebookApp.rate_limit_window=3.0 (secs)\n",
      "\n"
     ]
    },
    {
     "name": "stdout",
     "output_type": "stream",
     "text": [
      "75.72 % complete         "
     ]
    },
    {
     "name": "stderr",
     "output_type": "stream",
     "text": [
      "IOPub message rate exceeded.\n",
      "The notebook server will temporarily stop sending output\n",
      "to the client in order to avoid crashing it.\n",
      "To change this limit, set the config variable\n",
      "`--NotebookApp.iopub_msg_rate_limit`.\n",
      "\n",
      "Current values:\n",
      "NotebookApp.iopub_msg_rate_limit=1000.0 (msgs/sec)\n",
      "NotebookApp.rate_limit_window=3.0 (secs)\n",
      "\n"
     ]
    },
    {
     "name": "stdout",
     "output_type": "stream",
     "text": [
      "83.98 % complete "
     ]
    },
    {
     "name": "stderr",
     "output_type": "stream",
     "text": [
      "IOPub message rate exceeded.\n",
      "The notebook server will temporarily stop sending output\n",
      "to the client in order to avoid crashing it.\n",
      "To change this limit, set the config variable\n",
      "`--NotebookApp.iopub_msg_rate_limit`.\n",
      "\n",
      "Current values:\n",
      "NotebookApp.iopub_msg_rate_limit=1000.0 (msgs/sec)\n",
      "NotebookApp.rate_limit_window=3.0 (secs)\n",
      "\n"
     ]
    },
    {
     "name": "stdout",
     "output_type": "stream",
     "text": [
      "93.02 % complete "
     ]
    },
    {
     "name": "stderr",
     "output_type": "stream",
     "text": [
      "IOPub message rate exceeded.\n",
      "The notebook server will temporarily stop sending output\n",
      "to the client in order to avoid crashing it.\n",
      "To change this limit, set the config variable\n",
      "`--NotebookApp.iopub_msg_rate_limit`.\n",
      "\n",
      "Current values:\n",
      "NotebookApp.iopub_msg_rate_limit=1000.0 (msgs/sec)\n",
      "NotebookApp.rate_limit_window=3.0 (secs)\n",
      "\n"
     ]
    },
    {
     "name": "stdout",
     "output_type": "stream",
     "text": [
      "100.00 % complete T, z shapes:  (50001, 100) (100,)\n"
     ]
    }
   ],
   "source": [
    "# First test of solver\n",
    "test = pde_solver(L=100, t_tot=5000, T0=3, kappa=2, dt=0.1, dz=1, omega=2.3e-3)\n"
   ]
  },
  {
   "cell_type": "code",
   "execution_count": 13,
   "id": "0d9a5da5",
   "metadata": {},
   "outputs": [
    {
     "data": {
      "text/plain": [
       "<matplotlib.colorbar.Colorbar at 0x17bae88e0>"
      ]
     },
     "execution_count": 13,
     "metadata": {},
     "output_type": "execute_result"
    },
    {
     "data": {
      "image/png": "[encoded data removed]",
      "text/plain": [
       "<Figure size 576x576 with 2 Axes>"
      ]
     },
     "metadata": {
      "needs_background": "light"
     },
     "output_type": "display_data"
    }
   ],
   "source": [
    "# For the following inputs: L=100, t_tot=5000, T0=3, kappa=2, dt=0.1, dz=1, omega=2.3e-3\n",
    "plt.figure(figsize=(8,8))\n",
    "plt.imshow(test[0].T, aspect=0.025,origin='lower',extent=(0,100,0,5000))\n",
    "plt.ylabel('Length'); plt.xlabel('Time')\n",
    "plt.title('Diffusion of Heat Through a Rotating Asteroid')\n",
    "plt.colorbar()"
   ]
  },
  {
   "cell_type": "markdown",
   "id": "78ed15d9",
   "metadata": {},
   "source": [
    "Analysis of the Plot"
   ]
  },
  {
   "cell_type": "markdown",
   "id": "5cfd8a63",
   "metadata": {},
   "source": [
    "## <center> What next:\n",
    "    * Explore parameter space and understand what's happening\n",
    "    * Compare analytic solution\n",
    "    * Add new terms:\n",
    "        * Radiative losses\n",
    "        * Other physics?\n",
    "    * Try implementing RK2?\n",
    "        * Error analysis comparison\n",
    "    * Tests\n",
    "        * Stability: timestep vs spatial resolution\n",
    "        * Comparison to analytic solution at specific timesteps\n",
    "    "
   ]
  },
  {
   "cell_type": "markdown",
   "id": "edf2c2b4",
   "metadata": {},
   "source": [
    "## Analytic Solution"
   ]
  },
  {
   "cell_type": "code",
   "execution_count": 39,
   "id": "d98e0c43",
   "metadata": {},
   "outputs": [
    {
     "name": "stdout",
     "output_type": "stream",
     "text": [
      "(5000, 2000)\n"
     ]
    },
    {
     "data": {
      "text/plain": [
       "<matplotlib.colorbar.Colorbar at 0x17f468a60>"
      ]
     },
     "execution_count": 39,
     "metadata": {},
     "output_type": "execute_result"
    },
    {
     "data": {
      "image/png": "[encoded data removed]",
      "text/plain": [
       "<Figure size 432x288 with 2 Axes>"
      ]
     },
     "metadata": {
      "needs_background": "light"
     },
     "output_type": "display_data"
    }
   ],
   "source": [
    "T0 = 5 # Kelvin\n",
    "L = 1 # km\n",
    "z = np.linspace(0, L, 2000) # Or dz = z[1] - z[0]\n",
    "t = np.linspace(0, 10, 5000).reshape(5000,1) # s \n",
    "omega = 2.3e-3 # Hz\n",
    "kappa = 2 # units\n",
    "k = np.sqrt(omega/(2*kappa))\n",
    "analytic = T0*(np.cos(omega*t))*np.exp(-k*z)*np.sin(k*z - omega*t)\n",
    "print(analytic.shape)\n",
    "plt.imshow(analytic, origin='lower')\n",
    "plt.colorbar()"
   ]
  },
  {
   "cell_type": "markdown",
   "id": "3bd7e913",
   "metadata": {},
   "source": [
    "## Exploring Parameter Space\n",
    "\n",
    "Let's compare the solutions for various combinations of the physical parameters in our problem, namely the size of the asteroid, the diffusion coefficient, the rotation rate of the asteroid, and the initial temperature of the ambient environment."
   ]
  },
  {
   "cell_type": "code",
   "execution_count": null,
   "id": "9c621e2d",
   "metadata": {},
   "outputs": [],
   "source": [
    "L = np.array([1,10,100,1000])\n",
    "kappa = \n",
    "t_tot=100\n",
    "test = pde_solver(L=100, t_tot=5000, T0=3, kappa=2, dt=0.1, dz=1, omega=2.3e-3)"
   ]
  },
  {
   "cell_type": "markdown",
   "id": "40222534",
   "metadata": {},
   "source": [
    "## Adding New Terms to the Diffusion Equation"
   ]
  },
  {
   "cell_type": "code",
   "execution_count": null,
   "id": "bdf43b55",
   "metadata": {},
   "outputs": [],
   "source": []
  },
  {
   "cell_type": "markdown",
   "id": "116d3e9b",
   "metadata": {},
   "source": [
    "## Testing"
   ]
  },
  {
   "cell_type": "code",
   "execution_count": null,
   "id": "1ffe1e3e",
   "metadata": {},
   "outputs": [],
   "source": []
  }
 ],
 "metadata": {
  "kernelspec": {
   "display_name": "Python 3 (ipykernel)",
   "language": "python",
   "name": "python3"
  },
  "language_info": {
   "codemirror_mode": {
    "name": "ipython",
    "version": 3
   },
   "file_extension": ".py",
   "mimetype": "text/x-python",
   "name": "python",
   "nbconvert_exporter": "python",
   "pygments_lexer": "ipython3",
   "version": "3.9.9"
  }
 },
 "nbformat": 4,
 "nbformat_minor": 5
}
