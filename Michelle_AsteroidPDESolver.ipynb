{
 "cells": [
  {
   "cell_type": "code",

   "execution_count": 4,
   "id": "2b8dfc51",
   "metadata": {
    "scrolled": true
   },
   "outputs": [],
   "source": [
    "# Import Modules Needed\n",
    "\n",

    "import numpy as np\n",
    "import matplotlib.pyplot as plt\n",
    "import scipy\n",
    "from scipy.special import erfc\n",
    "from PIL import Image as im \n",
    "from matplotlib import animation, rc\n",
    "plt.rc('animation', html='jshtml')\n",
    "from IPython.display import HTML\n",
    "import subprocess as sp\n",
    "import sys,math\n",
    "import sympy as sym\n",
    "import matplotlib.font_manager\n",
    "from IPython.core.display import HTML\n",
    "def make_html(fontname):\n",
    "    return \"<p>{font}: <span style='font-family:{font}; font-size: 24px;'>{font}</p>\".format(font=fontname)\n",
    "code = \"\\n\".join([make_html(font) for font in sorted(set([f.name for f in matplotlib.font_manager.fontManager.ttflist]))])\n",
    "# HTML(\"<div style='column-count: 2;'>{}</div>\".format(code))"
   ]
  },
  {
   "cell_type": "code",
   "execution_count": 10,
   "id": "7ace5c12",
   "metadata": {},
   "outputs": [],
   "source": [
    "# Little function to tell you how long the for loop is running, courtesy of Kirk Long\n",
    "\n",
    "def trackPercent(place,totalLength,strLen): #percent output tracker\n",
    "    percent = place/totalLength*10\n",
    "    if math.floor(percent)==69:\n",
    "        string=\"{:.2f} % complete -- nice\".format(percent)\n",
    "    else:\n",
    "        string=\"{:.2f} % complete\".format(percent)\n",
    "    sys.stdout.write(\"\\r\") #this \"moves the cursor\" to the beginning of the I0 line\n",
    "    sys.stdout.write(\" \"*strLen) #this \"clears\" whatever was on the line last time by writing whitespace\n",
    "    sys.stdout.write(\"\\r\") #move the cursor back to the start again\n",
    "    sys.stdout.write(string) #display the current percent we are at\n",
    "    sys.stdout.flush() #flush finishes call to print() (this is like what's under the hood of print function)\n",
    "    strLen=len(string) #return the new string length for next function call\n",
    "    return strLen\n",
    "#--NotebookApp.iopub_data_rate_limit=1.0e10"
   ]
  },
  {
   "cell_type": "code",

   "execution_count": 6,

   "id": "5da21848",
   "metadata": {},
   "outputs": [],
   "source": [
    "# Class function containing various algorithms to solve the diffusion of heat through an asteroid\n",
    "\n",
    "class pde_solver():\n",

    "    def __init__(self,zp,dzp,tp,kappa,uc,omegap, T0,mu,kk):\n",

    "    \n",
    "    #'''\n",
    "    # Solve the 1d diffusion equation using finite differences method, with inputs for the \n",
    "    # spatial range (L), total time (t), initial condition (T0), diffusion coeffecient \n",
    "    # (kappa), number of timesteps (Nt), number of spatial nodes (Nz), frequency (omega), physical characteristics\n",
    "    # constant (mu), and thermal conductivity (kk)\n",
    "    #'''\n",
    "        self.kappa=kappa\n",
    "        self.Uc=uc\n",
    "        \n",
    "        \n",
    "        self.zc=self.kappa/self.Uc        \n",
    "        self.dzp=dzp\n",
    "        self.zp=np.arange(0,zp,self.dzp)\n",
    "        self.dz=self.dzp*self.zc\n",
    "        self.z=np.arange(0,zp*self.zc,self.dz)\n",
    "    \n",
    "        self.tc=self.zc**2/self.kappa\n",
    "        self.dt=0.9*self.dz**2/(2*self.kappa)\n",
    "        self.dtp=self.dt/self.tc\n",
    "        self.tp=np.arange(0,tp,self.dtp) \n",
    "        self.t=np.arange(0,tp*self.tc,self.dt)\n",
    "        \n",
    "        self.wp=omegap\n",
    "        self.wc=1/self.tc\n",
    "        self.w=self.wp*self.wc\n",
    "        print('Wc = {:.2e}, and W = {:.2e}'.format(self.wc,self.w))\n",
    "        self.T0=T0\n",
    "        self.mu=mu\n",
    "        self.kk=kk\n",

    "        # Define timestep to satisfy stability req't\n",

    "        self.r = self.kappa*self.dt/(self.dz**2) # Diffusion condition\n",
    "        self.d=self.mu*self.kappa/self.kk # radiative loss term\n",
    "        print(\"Step size: dt = {:.2e}\".format(self.dt))\n",
    "        self.Nz = len(self.z)\n",

    "        self.Nt = len(self.t)\n",
    "        self.T_sol=None\n",
    "        self.T=None\n",
    "        self.TR=None\n",

    "    def numerical(self,double=True):\n",
    "        '''Function to compute, with centered finite differences, the temperature evolution in an asteroid\n",
    "        rotating in space'''\n",
    "        \n",
    "        self.Tr=np.zeros((self.Nt, self.Nz+2))\n",
    "        print (np.shape(self.Tr))\n",
    "        # Insert boundary conditions\n",
    "        self.Tr[:,0] =self.T0-self.T0*np.cos(self.w*self.t)#+ self.T0*(np.sin(self.omega*self.t -np.pi/2))#self.T0+\n",
    "        if double:\n",
    "            self.Tr[:,-1] = self.T0+self.T0*np.cos(self.w*self.t)#+self.T0*(-np.sin(self.omega*self.t -np.pi/2))\n",
    "        for i in range(1, self.Nt):\n",
    "            # Compute u at inner mesh points for i in range(1, Nz):\n",
    "            self.Tr[i,1:-1] =  self.Tr[i-1,1:-1] + self.r * (self.Tr[i-1,2:] - 2*self.Tr[i-1,1:-1] + self.Tr[i-1,:-2]) \n",
    "\n",
    "        self.T =self.Tr[:,1:-1]\n",
    "\n",

    "    def numerical_const(self):\n",
    "        self.Tc=np.zeros((self.Nt, self.Nz+2))\n",
    "        self.Tc[:,0] = 1\n",
    "        for i in range(1, self.Nt):\n",
    "            # Compute u at inner mesh points for i in range(1, Nz):\n",
    "            self.Tc[i,1:-1] =  self.Tc[i-1,1:-1] + self.r * (self.Tc[i-1,2:] - 2*self.Tc[i-1,1:-1] + self.Tc[i-1,:-2]) \n",
    "        self.Tc=self.Tc[:,1:-1] \n",
    "        \n",
    "        \n",
    "    def numerical_plus_radiative(self, double=True):\n",
    "        '''Function to compute the modified diffusion equation, that with a radiative loss term, describing an\n",
    "        asteroid which loses heat to its surroundings'''\n",
    "        self.TR=np.zeros((self.Nt, self.Nz+2))\n",
    "        str_len = 0\n",
    "        # Insert boundary conditions\n",
    "        self.TR[:,0] =self.T0- self.T0*np.cos(self.w*self.t)#self.T0*(np.sin(self.omega*self.t -np.pi/2))#self.T0+\n",
    "        if double:\n",
    "            self.TR[:,-1] = self.T0+self.T0*np.cos(self.w*self.t)#+self.T0*(-np.sin(self.omega*self.t -np.pi/2))\n",
    "            for i in range(1, self.Nt):\n",
    "                # Compute u at inner mesh points for i in range(1, Nz):\n",
    "                self.TR[i,1:-1] =  self.TR[i-1,1:-1] + self.r * (self.TR[i-1,2:] - 2*self.TR[i-1,1:-1] + self.TR[i-1,:-2]) \n",
    "                if self.TR[i,-1]<self.TR[i,-2]:\n",
    "                    self.TR[i,-1]=self.TR[i,-2]-self.d*(self.TR[i,-2]**4-self.TR[i,-1]**4) \n",
    "                if self.TR[i,0]<self.TR[i,1]:\n",
    "                    self.TR[i,0]=self.TR[i,1]-self.d*(self.TR[i,1]**4-self.TR[i,0]**4)\n",
    "        else:\n",
    "            for i in range(1, self.Nt):\n",
    "                # Compute u at inner mesh points for i in range(1, Nz):\n",
    "                self.TR[i,1:-1] =  self.TR[i-1,1:-1] + self.r * (self.TR[i-1,2:] - 2*self.TR[i-1,1:-1] + self.TR[i-1,:-2]) \n",
    "                self.TR[i,-1]=self.TR[i,-2]-self.d*(self.TR[i,-2]**4)\n",
    "        self.TR=self.TR[:,1:-1] \n",
    "       \n",
    "#     def analytic(self):\n",
    "#         t_a=self.t.reshape(self.Nt,1)\n",
    "#         z_a=self.z.reshape(1,self.Nz)\n",
    "#         self.k =np.sqrt(self.w/(2*self.kappa))#*(self.dz**2/self.L**2)))\n",
    "#         #self.a=self.k*z_a - self.omega*t_a\n",
    "#         self.T_sol=np.zeros((self.Nt, self.Nz))\n",
    "#         for i in range(self.Nt):#np.cos(self.k*self.z) -\n",
    "#             for j in range(self.Nz):\n",
    "#                 self.T_sol[i,j]=self.T0*np.exp(-self.k*self.z[j])*np.cos( self.k*self.z[j] - self.w*self.t[i])#(np.cos(self.k*self.z) -\n",
    "\n",
    "        \n",
    "    def analytic_const(self):\n",
    "        from scipy import special\n",
    "        self.Tc_sol=np.zeros((self.Nt, self.Nz))\n",
    "        for i in range(1, self.Nt):#np.exp(self.k*self.z)\n",
    "            self.Tc_sol[i]=special.erfc(self.z/(2*np.sqrt(self.kappa*self.t[i])))#(np.cos(self.k*self.z) -\n",
    "                "
   ]
  },
  {
   "cell_type": "code",

   "execution_count": 7,
   "id": "c8ad6143",
   "metadata": {},
   "outputs": [
    {
     "data": {
      "text/plain": [
       "[-sqrt(-I*omega/nu), sqrt(-I*omega/nu)]"
      ]
     },

     "execution_count": 7,
     "metadata": {},
     "output_type": "execute_result"
    }
   ],
   "source": [
    "l,w,nu=sym.symbols('lambda omega nu')\n",
    "sym.solve(l**2+sym.I*w/nu, l)"
   ]
  },
  {
   "cell_type": "code",
   "execution_count": 8,
   "id": "a6237a1e",
   "metadata": {
    "scrolled": false
   },
   "outputs": [
    {
     "name": "stdout",
     "output_type": "stream",
     "text": [
      "Wc = 3.33e-01, and W = 5.00e+00\n",
      "Step size: dt = 1.35e-04\n"
     ]
    }
   ],
   "source": [

    "# Let's solve!\n",
    "#solve = pde_solver(zp=1,dzp=0.01,tp=1,kappa=3,uc=1,omegap=15, T0=2,mu=5,kk=7)\n",
    "#dzp,kappa,uc,omegap, T0,mu,kk\n",
    "#solve.numerical(double=True)\n",
    "#solve.numerical_plus_radiative(double=True)\n",
    "#solve.numerical_const()\n",
    "#solve.numerical_const()\n",
    "\n",
    "#solve.analytic_const()\n",
    "solve2 = pde_solver(zp=10,dzp=0.01,tp=1,kappa=3,uc=1,omegap=15, T0=2,mu=5,kk=7)\n",
    "solve2.numerical_const()\n",

    "#solve2=pde_solver(L=500, t_tot=50000, T0=1, kappa=1.5, dz=1, omega=0.5e-3,mu=1,kk=5)\n",
    "solve2.analytic_const()\n",
    "#solve2 = pde_solver(L=100, t_tot=100000, T0=3, kappa=0.5, dz=1, omega=1e-2,mu=1e-2,kk=3)\n",
    "#solve2.numerical(double=False)"
   ]
  },
  {
   "cell_type": "code",
   "execution_count": 96,
   "id": "ba82fc24",
   "metadata": {},
   "outputs": [],
   "source": [
    "np.testing.assert_allclose(solve2.Tc[:,300], solve2.Tc_sol[:,300], atol=1e-3)\n"
   ]
  },
  {
   "cell_type": "code",

   "execution_count": 89,
   "id": "51a1e417",
   "metadata": {
    "scrolled": false
   },
   "outputs": [
    {
     "name": "stdout",
     "output_type": "stream",
     "text": [
      "Radiative loss: 2.142857142857143\n",
      "diffusion term 0.25\n"
     ]
    },
    {
     "data": {

      "text/plain": [
       "<matplotlib.collections.PathCollection at 0x7f7e42015a30>"
      ]
     },
     "execution_count": 89,
     "metadata": {},
     "output_type": "execute_result"
    },
    {
     "data": {
      "image/png": "[encoded data removed]",


      "text/plain": [
       "<Figure size 432x288 with 1 Axes>"
      ]
     },
     "metadata": {
      "needs_background": "light"
     },
     "output_type": "display_data"
    }
   ],
   "source": [
    "# Plotting\n",
    "\n",
    "ratio=1#0.01*solve.Nt/solve.Nz\n",
    "\n",
    "print ('Radiative loss:',solve.d)\n",
    "print(\"diffusion term\",solve.r)\n",
    "#plt.figure(figsize=(8,8))\n",
    "#plt.pcolormesh(solve2.T.T,vmin=0,vmax=6,aspect=ratio,origin='lower',extent=(0,solve.t_tot,0,solve.L))\n",
    "#plt.ylabel('Length'); plt.xlabel('Time')\n",
    "#plt.title('Numerical Solution, kappa = {} '.format(solve2.kappa),size=12)\n",
    "#plt.colorbar()\n",
    "#plt.show()\n",
    "# plt.figure(figsize=(8,8))\n",
    "# plt.pcolormesh(solve.tp,solve.zp,solve.T.T,vmin=0,vmax=4,  cmap='rainbow',shading='auto')\n",
    "# plt.ylabel('Length'); plt.xlabel('Time')\n",
    "# plt.colorbar()\n",
    "# plt.title('Numerical Solution, kappa = {} '.format(solve.kappa),size=12)\n",
    "# plt.show()\n",
    "# plt.close()\n",
    "\n",
    "# plt.figure(figsize=(8,8))\n",
    "# plt.pcolormesh(solve.tp,solve.zp,solve.TR.T,vmin=0,vmax=4,  cmap='rainbow', shading='auto')#aspect=ratio,origin='lower',extent=(0,1,0,1))\n",
    "# plt.ylabel('Length'); plt.xlabel('Time')\n",
    "# plt.colorbar()\n",
    "# plt.title('Numerical Radiative Solution, kappa = {} '.format(solve.kappa),size=12)\n",
    "# plt.show()\n",
    "# plt.close()\n",
    "\n",
    "# plt.figure(figsize=(8,8))\n",
    "# plt.pcolormesh(solve.tp,solve.zp,solve.T_sol.T,vmin=0,vmax=4,  cmap='rainbow',shading='auto')# aspect=ratio,origin='lower',extent=(0,1,0,1))\n",
    "# plt.ylabel('Length'); plt.xlabel('Time')\n",
    "# plt.colorbar()\n",
    "# plt.title('Analytic Solution, kappa = {} '.format(solve.kappa),size=12)\n",
    "# plt.show()\n",
    "# plt.close()\n",
    "\n",
    "# plt.figure(figsize=(8,8))\n",
    "# plt.pcolormesh(solve.tp,solve.zp,solve.Tc.T,vmin=0,vmax=1, cmap='rainbow', shading='auto')# aspect=ratio,origin='lower',extent=(0,1,0,1))\n",
    "# plt.ylabel('Length'); plt.xlabel('Time')\n",
    "# plt.colorbar()\n",
    "# plt.title('Const Numerical Solution, kappa = {} '.format(solve.kappa),size=12)\n",
    "# plt.show()\n",
    "# plt.close()\n",
    "\n",
    "# plt.figure(figsize=(8,8))\n",
    "# plt.pcolormesh(solve2.tp,solve2.zp,solve2.Tc.T,vmin=0,vmax=1, cmap='rainbow',shading='auto')\n",
    "# plt.ylim(0,1)\n",
    "# plt.ylabel('Length'); plt.xlabel('Time')\n",
    "# plt.colorbar()\n",
    "# plt.title('Const Numerical Solution,zp = 100, kappa = {} '.format(solve2.kappa),size=12)\n",
    "# plt.show()\n",
    "# plt.close()\n",
    "\n",
    "# plt.figure(figsize=(8,8))\n",
    "# plt.pcolormesh(solve2.tp,solve2.zp,solve2.Tc_sol.T,vmin=0,vmax=1, cmap='rainbow',shading='auto')\n",
    "# plt.ylim(0,1)\n",
    "# plt.ylabel('Length'); plt.xlabel('Time')\n",
    "# plt.colorbar()\n",
    "# plt.title('Const AnalyticSolution,zp = 100, kappa = {} '.format(solve2.kappa),size=12)\n",
    "# plt.show()\n",
    "# plt.close()\n",
    "\n",
    "#plt.figure(figsize=(8,8))\n",
    "#plt.pcolormesh(solve.TR.T,vmin=0,vmax=2,  aspect=ratio,origin='lower',extent=(0,solve.t_tot,0,solve.L))\n",
    "#plt.ylabel('Length'); plt.xlabel('Time')\n",
    "#plt.colorbar()\n",
    "\n",
    "#plt.title('Radiative Numerical Solution, kappa = {} '.format(solve.kappa),size=12)\n",
    "#plt.show()\n",
    "plt.plot(solve2.tp,solve2.Tc_sol[:,100],c='blue')\n",
    "plt.scatter(solve2.tp[0::1000],solve2.Tc[0::1000,100],color='red')\n",
    "\n",
    "plt.plot(solve2.tp,solve2.Tc_sol[:,300],c='blue')\n",
    "plt.scatter(solve2.tp[0::1000],solve2.Tc[0::1000,300],color='red')\n",
    "\n",
    "plt.plot(solve2.tp,solve2.Tc_sol[:,500],c='blue')\n",
    "plt.scatter(solve2.tp[0::1000],solve2.Tc[0::1000,500],color='red')\n",
    "# plt.figure(figsize=(8,8))\n",
    "# plt.pcolormesh(solve.tp,solve.zp,solve.Tc_sol.T,vmin=0,vmax=1,   cmap='rainbow',shading='auto')#aspect=ratio,origin='lower',extent=(0,1,0,1))\n",
    "# plt.ylabel('Length'); plt.xlabel('Time')\n",
    "# plt.colorbar()\n",
    "# plt.title('Const Analytic Solution, kappa = {} '.format(solve.kappa),size=12)\n",
    "# plt.show()\n",
    "# plt.close()\n",
    "#plt.plot(solve.T[:,-1],color='k')\n",
    "#plt.plot(solve.T[:,-2],color='red')\n",
    "#plt.plot(solve.T[:,-3],color='blue')\n",
    "#plt.ylim(0.6,1)\n",
    "#plt.grid()"
   ]
  },
  {
   "cell_type": "code",
   "execution_count": null,
   "id": "7569a4b3",
   "metadata": {},
   "outputs": [],
   "source": [
    "z0=0#int(len(solve.z)/5)\n",
    "#plt.plot(solve.t,solve.T_R[:,z0],label='Analytic Solution R')#marker='o',size=20\n",
    "#plt.plot(solve.t,solve.T_L[:,z0],label='Analytic Solution L')#marker='o',size=20\n",
    "plt.plot(solve.t,solve.T[:,z0],label='Numerical Solution')\n",
    "plt.plot(solve.t,solve.T_sol[:,z0],label='Analytic Solution')#marker='o',size=20\n",
    "plt.legend(loc=0,ncol=1,prop={'size':12},frameon=False)\n",
    "plt.grid()\n",
    "plt.show()"
   ]
  },
  {
   "cell_type": "markdown",
   "id": "5fb8ebd9",
   "metadata": {},
   "source": [
    "## Exploring Parameter Space"
   ]
  },
  {
   "cell_type": "code",
   "execution_count": null,
   "id": "bb641df7",
   "metadata": {},
   "outputs": [],
   "source": []
  }
 ],
 "metadata": {
  "kernelspec": {
   "display_name": "Python 3",
   "language": "python",
   "name": "python3"
  },
  "language_info": {
   "codemirror_mode": {
    "name": "ipython",
    "version": 3
   },
   "file_extension": ".py",
   "mimetype": "text/x-python",
   "name": "python",
   "nbconvert_exporter": "python",
   "pygments_lexer": "ipython3",
   "version": "3.8.8"
  }
 },
 "nbformat": 4,
 "nbformat_minor": 5
}
