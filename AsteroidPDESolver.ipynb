{
 "cells": [
  {
   "cell_type": "code",
   "execution_count": 2,
   "id": "510ba181",
   "metadata": {},
   "outputs": [
    {
     "data": {
      "text/html": [
       "<div style='column-count: 2;'><p>.Aqua Kana: <span style='font-family:.Aqua Kana; font-size: 24px;'>.Aqua Kana</p>\n",
       "<p>.Arabic UI Display: <span style='font-family:.Arabic UI Display; font-size: 24px;'>.Arabic UI Display</p>\n",
       "<p>.Arabic UI Text: <span style='font-family:.Arabic UI Text; font-size: 24px;'>.Arabic UI Text</p>\n",
       "<p>.Helvetica Neue DeskInterface: <span style='font-family:.Helvetica Neue DeskInterface; font-size: 24px;'>.Helvetica Neue DeskInterface</p>\n",
       "<p>.Keyboard: <span style='font-family:.Keyboard; font-size: 24px;'>.Keyboard</p>\n",
       "<p>.New York: <span style='font-family:.New York; font-size: 24px;'>.New York</p>\n",
       "<p>.SF Compact Display: <span style='font-family:.SF Compact Display; font-size: 24px;'>.SF Compact Display</p>\n",
       "<p>.SF Compact Rounded: <span style='font-family:.SF Compact Rounded; font-size: 24px;'>.SF Compact Rounded</p>\n",
       "<p>.SF Compact Text: <span style='font-family:.SF Compact Text; font-size: 24px;'>.SF Compact Text</p>\n",
       "<p>.SF NS Display Condensed: <span style='font-family:.SF NS Display Condensed; font-size: 24px;'>.SF NS Display Condensed</p>\n",
       "<p>.SF NS Mono: <span style='font-family:.SF NS Mono; font-size: 24px;'>.SF NS Mono</p>\n",
       "<p>.SF NS Rounded: <span style='font-family:.SF NS Rounded; font-size: 24px;'>.SF NS Rounded</p>\n",
       "<p>.SF NS Text Condensed: <span style='font-family:.SF NS Text Condensed; font-size: 24px;'>.SF NS Text Condensed</p>\n",
       "<p>Al Bayan: <span style='font-family:Al Bayan; font-size: 24px;'>Al Bayan</p>\n",
       "<p>Al Nile: <span style='font-family:Al Nile; font-size: 24px;'>Al Nile</p>\n",
       "<p>Al Tarikh: <span style='font-family:Al Tarikh; font-size: 24px;'>Al Tarikh</p>\n",
       "<p>American Typewriter: <span style='font-family:American Typewriter; font-size: 24px;'>American Typewriter</p>\n",
       "<p>Andale Mono: <span style='font-family:Andale Mono; font-size: 24px;'>Andale Mono</p>\n",
       "<p>Apple Braille: <span style='font-family:Apple Braille; font-size: 24px;'>Apple Braille</p>\n",
       "<p>Apple Chancery: <span style='font-family:Apple Chancery; font-size: 24px;'>Apple Chancery</p>\n",
       "<p>Apple SD Gothic Neo: <span style='font-family:Apple SD Gothic Neo; font-size: 24px;'>Apple SD Gothic Neo</p>\n",
       "<p>Apple Symbols: <span style='font-family:Apple Symbols; font-size: 24px;'>Apple Symbols</p>\n",
       "<p>AppleGothic: <span style='font-family:AppleGothic; font-size: 24px;'>AppleGothic</p>\n",
       "<p>AppleMyungjo: <span style='font-family:AppleMyungjo; font-size: 24px;'>AppleMyungjo</p>\n",
       "<p>Arial: <span style='font-family:Arial; font-size: 24px;'>Arial</p>\n",
       "<p>Arial Black: <span style='font-family:Arial Black; font-size: 24px;'>Arial Black</p>\n",
       "<p>Arial Hebrew: <span style='font-family:Arial Hebrew; font-size: 24px;'>Arial Hebrew</p>\n",
       "<p>Arial Narrow: <span style='font-family:Arial Narrow; font-size: 24px;'>Arial Narrow</p>\n",
       "<p>Arial Rounded MT Bold: <span style='font-family:Arial Rounded MT Bold; font-size: 24px;'>Arial Rounded MT Bold</p>\n",
       "<p>Arial Unicode MS: <span style='font-family:Arial Unicode MS; font-size: 24px;'>Arial Unicode MS</p>\n",
       "<p>Athelas: <span style='font-family:Athelas; font-size: 24px;'>Athelas</p>\n",
       "<p>Avenir: <span style='font-family:Avenir; font-size: 24px;'>Avenir</p>\n",
       "<p>Avenir Next: <span style='font-family:Avenir Next; font-size: 24px;'>Avenir Next</p>\n",
       "<p>Avenir Next Condensed: <span style='font-family:Avenir Next Condensed; font-size: 24px;'>Avenir Next Condensed</p>\n",
       "<p>Ayuthaya: <span style='font-family:Ayuthaya; font-size: 24px;'>Ayuthaya</p>\n",
       "<p>Baghdad: <span style='font-family:Baghdad; font-size: 24px;'>Baghdad</p>\n",
       "<p>Bangla MN: <span style='font-family:Bangla MN; font-size: 24px;'>Bangla MN</p>\n",
       "<p>Bangla Sangam MN: <span style='font-family:Bangla Sangam MN; font-size: 24px;'>Bangla Sangam MN</p>\n",
       "<p>Baskerville: <span style='font-family:Baskerville; font-size: 24px;'>Baskerville</p>\n",
       "<p>Beirut: <span style='font-family:Beirut; font-size: 24px;'>Beirut</p>\n",
       "<p>Big Caslon: <span style='font-family:Big Caslon; font-size: 24px;'>Big Caslon</p>\n",
       "<p>Bodoni 72: <span style='font-family:Bodoni 72; font-size: 24px;'>Bodoni 72</p>\n",
       "<p>Bodoni 72 Oldstyle: <span style='font-family:Bodoni 72 Oldstyle; font-size: 24px;'>Bodoni 72 Oldstyle</p>\n",
       "<p>Bodoni 72 Smallcaps: <span style='font-family:Bodoni 72 Smallcaps; font-size: 24px;'>Bodoni 72 Smallcaps</p>\n",
       "<p>Bodoni Ornaments: <span style='font-family:Bodoni Ornaments; font-size: 24px;'>Bodoni Ornaments</p>\n",
       "<p>Bradley Hand: <span style='font-family:Bradley Hand; font-size: 24px;'>Bradley Hand</p>\n",
       "<p>Brush Script MT: <span style='font-family:Brush Script MT; font-size: 24px;'>Brush Script MT</p>\n",
       "<p>Chalkboard: <span style='font-family:Chalkboard; font-size: 24px;'>Chalkboard</p>\n",
       "<p>Chalkboard SE: <span style='font-family:Chalkboard SE; font-size: 24px;'>Chalkboard SE</p>\n",
       "<p>Chalkduster: <span style='font-family:Chalkduster; font-size: 24px;'>Chalkduster</p>\n",
       "<p>Charter: <span style='font-family:Charter; font-size: 24px;'>Charter</p>\n",
       "<p>Cochin: <span style='font-family:Cochin; font-size: 24px;'>Cochin</p>\n",
       "<p>Comic Sans MS: <span style='font-family:Comic Sans MS; font-size: 24px;'>Comic Sans MS</p>\n",
       "<p>Copperplate: <span style='font-family:Copperplate; font-size: 24px;'>Copperplate</p>\n",
       "<p>Corsiva Hebrew: <span style='font-family:Corsiva Hebrew; font-size: 24px;'>Corsiva Hebrew</p>\n",
       "<p>Courier New: <span style='font-family:Courier New; font-size: 24px;'>Courier New</p>\n",
       "<p>DIN Alternate: <span style='font-family:DIN Alternate; font-size: 24px;'>DIN Alternate</p>\n",
       "<p>DIN Condensed: <span style='font-family:DIN Condensed; font-size: 24px;'>DIN Condensed</p>\n",
       "<p>Damascus: <span style='font-family:Damascus; font-size: 24px;'>Damascus</p>\n",
       "<p>DecoType Naskh: <span style='font-family:DecoType Naskh; font-size: 24px;'>DecoType Naskh</p>\n",
       "<p>DejaVu Sans: <span style='font-family:DejaVu Sans; font-size: 24px;'>DejaVu Sans</p>\n",
       "<p>DejaVu Sans Display: <span style='font-family:DejaVu Sans Display; font-size: 24px;'>DejaVu Sans Display</p>\n",
       "<p>DejaVu Sans Mono: <span style='font-family:DejaVu Sans Mono; font-size: 24px;'>DejaVu Sans Mono</p>\n",
       "<p>DejaVu Serif: <span style='font-family:DejaVu Serif; font-size: 24px;'>DejaVu Serif</p>\n",
       "<p>DejaVu Serif Display: <span style='font-family:DejaVu Serif Display; font-size: 24px;'>DejaVu Serif Display</p>\n",
       "<p>Devanagari MT: <span style='font-family:Devanagari MT; font-size: 24px;'>Devanagari MT</p>\n",
       "<p>Devanagari Sangam MN: <span style='font-family:Devanagari Sangam MN; font-size: 24px;'>Devanagari Sangam MN</p>\n",
       "<p>Didot: <span style='font-family:Didot; font-size: 24px;'>Didot</p>\n",
       "<p>Diwan Kufi: <span style='font-family:Diwan Kufi; font-size: 24px;'>Diwan Kufi</p>\n",
       "<p>Diwan Thuluth: <span style='font-family:Diwan Thuluth; font-size: 24px;'>Diwan Thuluth</p>\n",
       "<p>Euphemia UCAS: <span style='font-family:Euphemia UCAS; font-size: 24px;'>Euphemia UCAS</p>\n",
       "<p>Farah: <span style='font-family:Farah; font-size: 24px;'>Farah</p>\n",
       "<p>Farisi: <span style='font-family:Farisi; font-size: 24px;'>Farisi</p>\n",
       "<p>Futura: <span style='font-family:Futura; font-size: 24px;'>Futura</p>\n",
       "<p>Galvji: <span style='font-family:Galvji; font-size: 24px;'>Galvji</p>\n",
       "<p>Geeza Pro: <span style='font-family:Geeza Pro; font-size: 24px;'>Geeza Pro</p>\n",
       "<p>Georgia: <span style='font-family:Georgia; font-size: 24px;'>Georgia</p>\n",
       "<p>Gill Sans: <span style='font-family:Gill Sans; font-size: 24px;'>Gill Sans</p>\n",
       "<p>Gujarati MT: <span style='font-family:Gujarati MT; font-size: 24px;'>Gujarati MT</p>\n",
       "<p>Gujarati Sangam MN: <span style='font-family:Gujarati Sangam MN; font-size: 24px;'>Gujarati Sangam MN</p>\n",
       "<p>Gurmukhi MN: <span style='font-family:Gurmukhi MN; font-size: 24px;'>Gurmukhi MN</p>\n",
       "<p>Gurmukhi MT: <span style='font-family:Gurmukhi MT; font-size: 24px;'>Gurmukhi MT</p>\n",
       "<p>Gurmukhi Sangam MN: <span style='font-family:Gurmukhi Sangam MN; font-size: 24px;'>Gurmukhi Sangam MN</p>\n",
       "<p>Heiti TC: <span style='font-family:Heiti TC; font-size: 24px;'>Heiti TC</p>\n",
       "<p>Helvetica: <span style='font-family:Helvetica; font-size: 24px;'>Helvetica</p>\n",
       "<p>Helvetica Neue: <span style='font-family:Helvetica Neue; font-size: 24px;'>Helvetica Neue</p>\n",
       "<p>Herculanum: <span style='font-family:Herculanum; font-size: 24px;'>Herculanum</p>\n",
       "<p>Hiragino Maru Gothic Pro: <span style='font-family:Hiragino Maru Gothic Pro; font-size: 24px;'>Hiragino Maru Gothic Pro</p>\n",
       "<p>Hiragino Mincho ProN: <span style='font-family:Hiragino Mincho ProN; font-size: 24px;'>Hiragino Mincho ProN</p>\n",
       "<p>Hiragino Sans: <span style='font-family:Hiragino Sans; font-size: 24px;'>Hiragino Sans</p>\n",
       "<p>Hiragino Sans GB: <span style='font-family:Hiragino Sans GB; font-size: 24px;'>Hiragino Sans GB</p>\n",
       "<p>Hoefler Text: <span style='font-family:Hoefler Text; font-size: 24px;'>Hoefler Text</p>\n",
       "<p>ITF Devanagari: <span style='font-family:ITF Devanagari; font-size: 24px;'>ITF Devanagari</p>\n",
       "<p>Impact: <span style='font-family:Impact; font-size: 24px;'>Impact</p>\n",
       "<p>InaiMathi: <span style='font-family:InaiMathi; font-size: 24px;'>InaiMathi</p>\n",
       "<p>Iowan Old Style: <span style='font-family:Iowan Old Style; font-size: 24px;'>Iowan Old Style</p>\n",
       "<p>Kailasa: <span style='font-family:Kailasa; font-size: 24px;'>Kailasa</p>\n",
       "<p>Kannada MN: <span style='font-family:Kannada MN; font-size: 24px;'>Kannada MN</p>\n",
       "<p>Kannada Sangam MN: <span style='font-family:Kannada Sangam MN; font-size: 24px;'>Kannada Sangam MN</p>\n",
       "<p>Kefa: <span style='font-family:Kefa; font-size: 24px;'>Kefa</p>\n",
       "<p>Khmer MN: <span style='font-family:Khmer MN; font-size: 24px;'>Khmer MN</p>\n",
       "<p>Khmer Sangam MN: <span style='font-family:Khmer Sangam MN; font-size: 24px;'>Khmer Sangam MN</p>\n",
       "<p>Kohinoor Bangla: <span style='font-family:Kohinoor Bangla; font-size: 24px;'>Kohinoor Bangla</p>\n",
       "<p>Kohinoor Devanagari: <span style='font-family:Kohinoor Devanagari; font-size: 24px;'>Kohinoor Devanagari</p>\n",
       "<p>Kohinoor Gujarati: <span style='font-family:Kohinoor Gujarati; font-size: 24px;'>Kohinoor Gujarati</p>\n",
       "<p>Kohinoor Telugu: <span style='font-family:Kohinoor Telugu; font-size: 24px;'>Kohinoor Telugu</p>\n",
       "<p>Kokonor: <span style='font-family:Kokonor; font-size: 24px;'>Kokonor</p>\n",
       "<p>Krungthep: <span style='font-family:Krungthep; font-size: 24px;'>Krungthep</p>\n",
       "<p>KufiStandardGK: <span style='font-family:KufiStandardGK; font-size: 24px;'>KufiStandardGK</p>\n",
       "<p>Lao MN: <span style='font-family:Lao MN; font-size: 24px;'>Lao MN</p>\n",
       "<p>Lao Sangam MN: <span style='font-family:Lao Sangam MN; font-size: 24px;'>Lao Sangam MN</p>\n",
       "<p>Lucida Grande: <span style='font-family:Lucida Grande; font-size: 24px;'>Lucida Grande</p>\n",
       "<p>Luminari: <span style='font-family:Luminari; font-size: 24px;'>Luminari</p>\n",
       "<p>Malayalam MN: <span style='font-family:Malayalam MN; font-size: 24px;'>Malayalam MN</p>\n",
       "<p>Malayalam Sangam MN: <span style='font-family:Malayalam Sangam MN; font-size: 24px;'>Malayalam Sangam MN</p>\n",
       "<p>Marion: <span style='font-family:Marion; font-size: 24px;'>Marion</p>\n",
       "<p>Marker Felt: <span style='font-family:Marker Felt; font-size: 24px;'>Marker Felt</p>\n",
       "<p>Menlo: <span style='font-family:Menlo; font-size: 24px;'>Menlo</p>\n",
       "<p>Microsoft Sans Serif: <span style='font-family:Microsoft Sans Serif; font-size: 24px;'>Microsoft Sans Serif</p>\n",
       "<p>Mishafi: <span style='font-family:Mishafi; font-size: 24px;'>Mishafi</p>\n",
       "<p>Mishafi Gold: <span style='font-family:Mishafi Gold; font-size: 24px;'>Mishafi Gold</p>\n",
       "<p>Mshtakan: <span style='font-family:Mshtakan; font-size: 24px;'>Mshtakan</p>\n",
       "<p>Mukta Mahee: <span style='font-family:Mukta Mahee; font-size: 24px;'>Mukta Mahee</p>\n",
       "<p>Muna: <span style='font-family:Muna; font-size: 24px;'>Muna</p>\n",
       "<p>Myanmar MN: <span style='font-family:Myanmar MN; font-size: 24px;'>Myanmar MN</p>\n",
       "<p>Myanmar Sangam MN: <span style='font-family:Myanmar Sangam MN; font-size: 24px;'>Myanmar Sangam MN</p>\n",
       "<p>Nadeem: <span style='font-family:Nadeem; font-size: 24px;'>Nadeem</p>\n",
       "<p>New Peninim MT: <span style='font-family:New Peninim MT; font-size: 24px;'>New Peninim MT</p>\n",
       "<p>Noteworthy: <span style='font-family:Noteworthy; font-size: 24px;'>Noteworthy</p>\n",
       "<p>Noto Nastaliq Urdu: <span style='font-family:Noto Nastaliq Urdu; font-size: 24px;'>Noto Nastaliq Urdu</p>\n",
       "<p>Noto Sans Armenian: <span style='font-family:Noto Sans Armenian; font-size: 24px;'>Noto Sans Armenian</p>\n",
       "<p>Noto Sans Avestan: <span style='font-family:Noto Sans Avestan; font-size: 24px;'>Noto Sans Avestan</p>\n",
       "<p>Noto Sans Bamum: <span style='font-family:Noto Sans Bamum; font-size: 24px;'>Noto Sans Bamum</p>\n",
       "<p>Noto Sans Batak: <span style='font-family:Noto Sans Batak; font-size: 24px;'>Noto Sans Batak</p>\n",
       "<p>Noto Sans Brahmi: <span style='font-family:Noto Sans Brahmi; font-size: 24px;'>Noto Sans Brahmi</p>\n",
       "<p>Noto Sans Buginese: <span style='font-family:Noto Sans Buginese; font-size: 24px;'>Noto Sans Buginese</p>\n",
       "<p>Noto Sans Buhid: <span style='font-family:Noto Sans Buhid; font-size: 24px;'>Noto Sans Buhid</p>\n",
       "<p>Noto Sans Carian: <span style='font-family:Noto Sans Carian; font-size: 24px;'>Noto Sans Carian</p>\n",
       "<p>Noto Sans Chakma: <span style='font-family:Noto Sans Chakma; font-size: 24px;'>Noto Sans Chakma</p>\n",
       "<p>Noto Sans Cham: <span style='font-family:Noto Sans Cham; font-size: 24px;'>Noto Sans Cham</p>\n",
       "<p>Noto Sans Coptic: <span style='font-family:Noto Sans Coptic; font-size: 24px;'>Noto Sans Coptic</p>\n",
       "<p>Noto Sans Cuneiform: <span style='font-family:Noto Sans Cuneiform; font-size: 24px;'>Noto Sans Cuneiform</p>\n",
       "<p>Noto Sans Cypriot: <span style='font-family:Noto Sans Cypriot; font-size: 24px;'>Noto Sans Cypriot</p>\n",
       "<p>Noto Sans Egyptian Hieroglyphs: <span style='font-family:Noto Sans Egyptian Hieroglyphs; font-size: 24px;'>Noto Sans Egyptian Hieroglyphs</p>\n",
       "<p>Noto Sans Glagolitic: <span style='font-family:Noto Sans Glagolitic; font-size: 24px;'>Noto Sans Glagolitic</p>\n",
       "<p>Noto Sans Gothic: <span style='font-family:Noto Sans Gothic; font-size: 24px;'>Noto Sans Gothic</p>\n",
       "<p>Noto Sans Hanunoo: <span style='font-family:Noto Sans Hanunoo; font-size: 24px;'>Noto Sans Hanunoo</p>\n",
       "<p>Noto Sans Imperial Aramaic: <span style='font-family:Noto Sans Imperial Aramaic; font-size: 24px;'>Noto Sans Imperial Aramaic</p>\n",
       "<p>Noto Sans Inscriptional Pahlavi: <span style='font-family:Noto Sans Inscriptional Pahlavi; font-size: 24px;'>Noto Sans Inscriptional Pahlavi</p>\n",
       "<p>Noto Sans Inscriptional Parthian: <span style='font-family:Noto Sans Inscriptional Parthian; font-size: 24px;'>Noto Sans Inscriptional Parthian</p>\n",
       "<p>Noto Sans Javanese: <span style='font-family:Noto Sans Javanese; font-size: 24px;'>Noto Sans Javanese</p>\n",
       "<p>Noto Sans Kaithi: <span style='font-family:Noto Sans Kaithi; font-size: 24px;'>Noto Sans Kaithi</p>\n",
       "<p>Noto Sans Kannada: <span style='font-family:Noto Sans Kannada; font-size: 24px;'>Noto Sans Kannada</p>\n",
       "<p>Noto Sans Kayah Li: <span style='font-family:Noto Sans Kayah Li; font-size: 24px;'>Noto Sans Kayah Li</p>\n",
       "<p>Noto Sans Kharoshthi: <span style='font-family:Noto Sans Kharoshthi; font-size: 24px;'>Noto Sans Kharoshthi</p>\n",
       "<p>Noto Sans Lepcha: <span style='font-family:Noto Sans Lepcha; font-size: 24px;'>Noto Sans Lepcha</p>\n",
       "<p>Noto Sans Limbu: <span style='font-family:Noto Sans Limbu; font-size: 24px;'>Noto Sans Limbu</p>\n",
       "<p>Noto Sans Linear B: <span style='font-family:Noto Sans Linear B; font-size: 24px;'>Noto Sans Linear B</p>\n",
       "<p>Noto Sans Lisu: <span style='font-family:Noto Sans Lisu; font-size: 24px;'>Noto Sans Lisu</p>\n",
       "<p>Noto Sans Lycian: <span style='font-family:Noto Sans Lycian; font-size: 24px;'>Noto Sans Lycian</p>\n",
       "<p>Noto Sans Lydian: <span style='font-family:Noto Sans Lydian; font-size: 24px;'>Noto Sans Lydian</p>\n",
       "<p>Noto Sans Mandaic: <span style='font-family:Noto Sans Mandaic; font-size: 24px;'>Noto Sans Mandaic</p>\n",
       "<p>Noto Sans Meetei Mayek: <span style='font-family:Noto Sans Meetei Mayek; font-size: 24px;'>Noto Sans Meetei Mayek</p>\n",
       "<p>Noto Sans Mongolian: <span style='font-family:Noto Sans Mongolian; font-size: 24px;'>Noto Sans Mongolian</p>\n",
       "<p>Noto Sans Myanmar: <span style='font-family:Noto Sans Myanmar; font-size: 24px;'>Noto Sans Myanmar</p>\n",
       "<p>Noto Sans NKo: <span style='font-family:Noto Sans NKo; font-size: 24px;'>Noto Sans NKo</p>\n",
       "<p>Noto Sans New Tai Lue: <span style='font-family:Noto Sans New Tai Lue; font-size: 24px;'>Noto Sans New Tai Lue</p>\n",
       "<p>Noto Sans Ogham: <span style='font-family:Noto Sans Ogham; font-size: 24px;'>Noto Sans Ogham</p>\n",
       "<p>Noto Sans Ol Chiki: <span style='font-family:Noto Sans Ol Chiki; font-size: 24px;'>Noto Sans Ol Chiki</p>\n",
       "<p>Noto Sans Old Italic: <span style='font-family:Noto Sans Old Italic; font-size: 24px;'>Noto Sans Old Italic</p>\n",
       "<p>Noto Sans Old Persian: <span style='font-family:Noto Sans Old Persian; font-size: 24px;'>Noto Sans Old Persian</p>\n",
       "<p>Noto Sans Old South Arabian: <span style='font-family:Noto Sans Old South Arabian; font-size: 24px;'>Noto Sans Old South Arabian</p>\n",
       "<p>Noto Sans Old Turkic: <span style='font-family:Noto Sans Old Turkic; font-size: 24px;'>Noto Sans Old Turkic</p>\n",
       "<p>Noto Sans Oriya: <span style='font-family:Noto Sans Oriya; font-size: 24px;'>Noto Sans Oriya</p>\n",
       "<p>Noto Sans Osmanya: <span style='font-family:Noto Sans Osmanya; font-size: 24px;'>Noto Sans Osmanya</p>\n",
       "<p>Noto Sans PhagsPa: <span style='font-family:Noto Sans PhagsPa; font-size: 24px;'>Noto Sans PhagsPa</p>\n",
       "<p>Noto Sans Phoenician: <span style='font-family:Noto Sans Phoenician; font-size: 24px;'>Noto Sans Phoenician</p>\n",
       "<p>Noto Sans Rejang: <span style='font-family:Noto Sans Rejang; font-size: 24px;'>Noto Sans Rejang</p>\n",
       "<p>Noto Sans Runic: <span style='font-family:Noto Sans Runic; font-size: 24px;'>Noto Sans Runic</p>\n",
       "<p>Noto Sans Samaritan: <span style='font-family:Noto Sans Samaritan; font-size: 24px;'>Noto Sans Samaritan</p>\n",
       "<p>Noto Sans Saurashtra: <span style='font-family:Noto Sans Saurashtra; font-size: 24px;'>Noto Sans Saurashtra</p>\n",
       "<p>Noto Sans Shavian: <span style='font-family:Noto Sans Shavian; font-size: 24px;'>Noto Sans Shavian</p>\n",
       "<p>Noto Sans Sundanese: <span style='font-family:Noto Sans Sundanese; font-size: 24px;'>Noto Sans Sundanese</p>\n",
       "<p>Noto Sans Syloti Nagri: <span style='font-family:Noto Sans Syloti Nagri; font-size: 24px;'>Noto Sans Syloti Nagri</p>\n",
       "<p>Noto Sans Syriac: <span style='font-family:Noto Sans Syriac; font-size: 24px;'>Noto Sans Syriac</p>\n",
       "<p>Noto Sans Tagalog: <span style='font-family:Noto Sans Tagalog; font-size: 24px;'>Noto Sans Tagalog</p>\n",
       "<p>Noto Sans Tagbanwa: <span style='font-family:Noto Sans Tagbanwa; font-size: 24px;'>Noto Sans Tagbanwa</p>\n",
       "<p>Noto Sans Tai Le: <span style='font-family:Noto Sans Tai Le; font-size: 24px;'>Noto Sans Tai Le</p>\n",
       "<p>Noto Sans Tai Tham: <span style='font-family:Noto Sans Tai Tham; font-size: 24px;'>Noto Sans Tai Tham</p>\n",
       "<p>Noto Sans Tai Viet: <span style='font-family:Noto Sans Tai Viet; font-size: 24px;'>Noto Sans Tai Viet</p>\n",
       "<p>Noto Sans Thaana: <span style='font-family:Noto Sans Thaana; font-size: 24px;'>Noto Sans Thaana</p>\n",
       "<p>Noto Sans Tifinagh: <span style='font-family:Noto Sans Tifinagh; font-size: 24px;'>Noto Sans Tifinagh</p>\n",
       "<p>Noto Sans Ugaritic: <span style='font-family:Noto Sans Ugaritic; font-size: 24px;'>Noto Sans Ugaritic</p>\n",
       "<p>Noto Sans Vai: <span style='font-family:Noto Sans Vai; font-size: 24px;'>Noto Sans Vai</p>\n",
       "<p>Noto Sans Yi: <span style='font-family:Noto Sans Yi; font-size: 24px;'>Noto Sans Yi</p>\n",
       "<p>Noto Serif Balinese: <span style='font-family:Noto Serif Balinese; font-size: 24px;'>Noto Serif Balinese</p>\n",
       "<p>Noto Serif Myanmar: <span style='font-family:Noto Serif Myanmar; font-size: 24px;'>Noto Serif Myanmar</p>\n",
       "<p>Optima: <span style='font-family:Optima; font-size: 24px;'>Optima</p>\n",
       "<p>Oriya MN: <span style='font-family:Oriya MN; font-size: 24px;'>Oriya MN</p>\n",
       "<p>Oriya Sangam MN: <span style='font-family:Oriya Sangam MN; font-size: 24px;'>Oriya Sangam MN</p>\n",
       "<p>PT Mono: <span style='font-family:PT Mono; font-size: 24px;'>PT Mono</p>\n",
       "<p>PT Sans: <span style='font-family:PT Sans; font-size: 24px;'>PT Sans</p>\n",
       "<p>PT Serif: <span style='font-family:PT Serif; font-size: 24px;'>PT Serif</p>\n",
       "<p>PT Serif Caption: <span style='font-family:PT Serif Caption; font-size: 24px;'>PT Serif Caption</p>\n",
       "<p>Palatino: <span style='font-family:Palatino; font-size: 24px;'>Palatino</p>\n",
       "<p>Papyrus: <span style='font-family:Papyrus; font-size: 24px;'>Papyrus</p>\n",
       "<p>Phosphate: <span style='font-family:Phosphate; font-size: 24px;'>Phosphate</p>\n",
       "<p>PingFang HK: <span style='font-family:PingFang HK; font-size: 24px;'>PingFang HK</p>\n",
       "<p>Plantagenet Cherokee: <span style='font-family:Plantagenet Cherokee; font-size: 24px;'>Plantagenet Cherokee</p>\n",
       "<p>Raanana: <span style='font-family:Raanana; font-size: 24px;'>Raanana</p>\n",
       "<p>Rockwell: <span style='font-family:Rockwell; font-size: 24px;'>Rockwell</p>\n",
       "<p>STIXGeneral: <span style='font-family:STIXGeneral; font-size: 24px;'>STIXGeneral</p>\n",
       "<p>STIXIntegralsD: <span style='font-family:STIXIntegralsD; font-size: 24px;'>STIXIntegralsD</p>\n",
       "<p>STIXIntegralsSm: <span style='font-family:STIXIntegralsSm; font-size: 24px;'>STIXIntegralsSm</p>\n",
       "<p>STIXIntegralsUp: <span style='font-family:STIXIntegralsUp; font-size: 24px;'>STIXIntegralsUp</p>\n",
       "<p>STIXIntegralsUpD: <span style='font-family:STIXIntegralsUpD; font-size: 24px;'>STIXIntegralsUpD</p>\n",
       "<p>STIXIntegralsUpSm: <span style='font-family:STIXIntegralsUpSm; font-size: 24px;'>STIXIntegralsUpSm</p>\n",
       "<p>STIXNonUnicode: <span style='font-family:STIXNonUnicode; font-size: 24px;'>STIXNonUnicode</p>\n",
       "<p>STIXSizeFiveSym: <span style='font-family:STIXSizeFiveSym; font-size: 24px;'>STIXSizeFiveSym</p>\n",
       "<p>STIXSizeFourSym: <span style='font-family:STIXSizeFourSym; font-size: 24px;'>STIXSizeFourSym</p>\n",
       "<p>STIXSizeOneSym: <span style='font-family:STIXSizeOneSym; font-size: 24px;'>STIXSizeOneSym</p>\n",
       "<p>STIXSizeThreeSym: <span style='font-family:STIXSizeThreeSym; font-size: 24px;'>STIXSizeThreeSym</p>\n",
       "<p>STIXSizeTwoSym: <span style='font-family:STIXSizeTwoSym; font-size: 24px;'>STIXSizeTwoSym</p>\n",
       "<p>STIXVariants: <span style='font-family:STIXVariants; font-size: 24px;'>STIXVariants</p>\n",
       "<p>Sana: <span style='font-family:Sana; font-size: 24px;'>Sana</p>\n",
       "<p>Sathu: <span style='font-family:Sathu; font-size: 24px;'>Sathu</p>\n",
       "<p>Savoye LET: <span style='font-family:Savoye LET; font-size: 24px;'>Savoye LET</p>\n",
       "<p>Seravek: <span style='font-family:Seravek; font-size: 24px;'>Seravek</p>\n",
       "<p>Shree Devanagari 714: <span style='font-family:Shree Devanagari 714; font-size: 24px;'>Shree Devanagari 714</p>\n",
       "<p>SignPainter: <span style='font-family:SignPainter; font-size: 24px;'>SignPainter</p>\n",
       "<p>Silom: <span style='font-family:Silom; font-size: 24px;'>Silom</p>\n",
       "<p>Sinhala MN: <span style='font-family:Sinhala MN; font-size: 24px;'>Sinhala MN</p>\n",
       "<p>Sinhala Sangam MN: <span style='font-family:Sinhala Sangam MN; font-size: 24px;'>Sinhala Sangam MN</p>\n",
       "<p>Skia: <span style='font-family:Skia; font-size: 24px;'>Skia</p>\n",
       "<p>Snell Roundhand: <span style='font-family:Snell Roundhand; font-size: 24px;'>Snell Roundhand</p>\n",
       "<p>Songti SC: <span style='font-family:Songti SC; font-size: 24px;'>Songti SC</p>\n",
       "<p>Sukhumvit Set: <span style='font-family:Sukhumvit Set; font-size: 24px;'>Sukhumvit Set</p>\n",
       "<p>Superclarendon: <span style='font-family:Superclarendon; font-size: 24px;'>Superclarendon</p>\n",
       "<p>Symbol: <span style='font-family:Symbol; font-size: 24px;'>Symbol</p>\n",
       "<p>System Font: <span style='font-family:System Font; font-size: 24px;'>System Font</p>\n",
       "<p>Tahoma: <span style='font-family:Tahoma; font-size: 24px;'>Tahoma</p>\n",
       "<p>Tamil MN: <span style='font-family:Tamil MN; font-size: 24px;'>Tamil MN</p>\n",
       "<p>Tamil Sangam MN: <span style='font-family:Tamil Sangam MN; font-size: 24px;'>Tamil Sangam MN</p>\n",
       "<p>Telugu MN: <span style='font-family:Telugu MN; font-size: 24px;'>Telugu MN</p>\n",
       "<p>Telugu Sangam MN: <span style='font-family:Telugu Sangam MN; font-size: 24px;'>Telugu Sangam MN</p>\n",
       "<p>Thonburi: <span style='font-family:Thonburi; font-size: 24px;'>Thonburi</p>\n",
       "<p>Times: <span style='font-family:Times; font-size: 24px;'>Times</p>\n",
       "<p>Times New Roman: <span style='font-family:Times New Roman; font-size: 24px;'>Times New Roman</p>\n",
       "<p>Trattatello: <span style='font-family:Trattatello; font-size: 24px;'>Trattatello</p>\n",
       "<p>Trebuchet MS: <span style='font-family:Trebuchet MS; font-size: 24px;'>Trebuchet MS</p>\n",
       "<p>Verdana: <span style='font-family:Verdana; font-size: 24px;'>Verdana</p>\n",
       "<p>Waseem: <span style='font-family:Waseem; font-size: 24px;'>Waseem</p>\n",
       "<p>Webdings: <span style='font-family:Webdings; font-size: 24px;'>Webdings</p>\n",
       "<p>Wingdings: <span style='font-family:Wingdings; font-size: 24px;'>Wingdings</p>\n",
       "<p>Wingdings 2: <span style='font-family:Wingdings 2; font-size: 24px;'>Wingdings 2</p>\n",
       "<p>Wingdings 3: <span style='font-family:Wingdings 3; font-size: 24px;'>Wingdings 3</p>\n",
       "<p>Zapf Dingbats: <span style='font-family:Zapf Dingbats; font-size: 24px;'>Zapf Dingbats</p>\n",
       "<p>Zapfino: <span style='font-family:Zapfino; font-size: 24px;'>Zapfino</p>\n",
       "<p>cmb10: <span style='font-family:cmb10; font-size: 24px;'>cmb10</p>\n",
       "<p>cmex10: <span style='font-family:cmex10; font-size: 24px;'>cmex10</p>\n",
       "<p>cmmi10: <span style='font-family:cmmi10; font-size: 24px;'>cmmi10</p>\n",
       "<p>cmr10: <span style='font-family:cmr10; font-size: 24px;'>cmr10</p>\n",
       "<p>cmss10: <span style='font-family:cmss10; font-size: 24px;'>cmss10</p>\n",
       "<p>cmsy10: <span style='font-family:cmsy10; font-size: 24px;'>cmsy10</p>\n",
       "<p>cmtt10: <span style='font-family:cmtt10; font-size: 24px;'>cmtt10</p></div>"
      ],
      "text/plain": [
       "<IPython.core.display.HTML object>"
      ]
     },
     "execution_count": 2,
     "metadata": {},
     "output_type": "execute_result"
    }
   ],
   "source": [
    "import numpy as np\n",
    "import matplotlib.pyplot as plt\n",
    "import scipy\n",
    "from scipy.special import erfc\n",
    "from PIL import Image as im \n",
    "from matplotlib import animation, rc\n",
    "plt.rc('animation', html='jshtml')\n",
    "from IPython.display import HTML\n",
    "import subprocess as sp\n",
    "import sys,math\n",
    "\n",
    "import matplotlib.font_manager\n",
    "from IPython.core.display import HTML\n",
    "def make_html(fontname):\n",
    "    return \"<p>{font}: <span style='font-family:{font}; font-size: 24px;'>{font}</p>\".format(font=fontname)\n",
    "code = \"\\n\".join([make_html(font) for font in sorted(set([f.name for f in matplotlib.font_manager.fontManager.ttflist]))])\n",
    "HTML(\"<div style='column-count: 2;'>{}</div>\".format(code))"
   ]
  },
  {
   "cell_type": "code",
   "execution_count": 150,
   "id": "83c4a75f",
   "metadata": {},
   "outputs": [],
   "source": [
    "def trackPercent(place,totalLength,strLen): #percent output tracker\n",
    "    percent = place/totalLength*100\n",
    "    if math.floor(percent)==69:\n",
    "        string=\"{:.2f} % complete -- nice\".format(percent)\n",
    "    else:\n",
    "        string=\"{:.2f} % complete\".format(percent)\n",
    "    sys.stdout.write(\"\\r\") #this \"moves the cursor\" to the beginning of the I0 line\n",
    "    sys.stdout.write(\" \"*strLen) #this \"clears\" whatever was on the line last time by writing whitespace\n",
    "    sys.stdout.write(\"\\r\") #move the cursor back to the start again\n",
    "    sys.stdout.write(string) #display the current percent we are at\n",
    "    sys.stdout.flush() #flush finishes call to print() (this is like what's under the hood of print function)\n",
    "    strLen=len(string) #return the new string length for next function call\n",
    "    return strLen"
   ]
  },
  {
   "cell_type": "markdown",
   "id": "eea8e22f",
   "metadata": {},
   "source": [
    "We will solve Stoke's 2nd problem: diffusion of heat through a solid object. Specifically, we want to study how the temperature inside a rotating asteroid changes as it receives heat from the Sun. The simplest equation to describe this problem is the 1D diffusion equation\n",
    "\n",
    "## $\\frac{\\partial T}{\\partial t} = \\kappa \\frac{\\partial^{2} T}{\\partial z^{2}} $,\n",
    "\n",
    "where $\\kappa$ is the diffusion coefficient, describing how quickly the heat transfer takes place. The temperature at the surface can be described as $ T(t, 0) = T_{0}cos(\\omega t)$ and appropriate constants $\\omega$ and $\\kappa$ as well as appropriate boundary conditions can be chosen.\n",
    "\n",
    "This one-dimensional heat equation is analytically solvable, so we can compare our numerical solutions to analytic ones. We also plan to add additional terms to explore more interesting physics, such as radiative losses or terms to describe an inhomogenous material. Furthermore, we will think about whether we could add a physically relevant convective term too.\n",
    "\n",
    "\n",
    "## <center> Asteroid Data:\n",
    "    \n",
    "* Rotation rates typically 4-24 hr\n",
    "* Diameters from 10m to 500km\n",
    "    \n",
    "    \n",
    "https://canvas.colorado.edu/courses/64461/files/25494729?module_item_id=2409565"
   ]
  },
  {
   "cell_type": "code",
   "execution_count": 160,
   "id": "f1f296ae",
   "metadata": {},
   "outputs": [],
   "source": [
    "def pde_solver(L, t_tot, T0, kappa, dt, dz, omega):\n",
    "    \n",
    "    '''\n",
    "    Solve the 1d diffusion equation using finite differences method, with inputs for the \n",
    "    spatial range (L), total time (t), initial condition (T0), diffusion coeffecient \n",
    "    (kappa), number of timesteps (Nt), number of spatial nodes (Nz), and frequency (omega)\n",
    "    '''\n",
    "    \n",
    "    # Define space and time arrays \n",
    "    \n",
    "    z = np.arange(0, L , dz) # Or dz = z[1] - z[0]\n",
    "    Nz = len(z)\n",
    "    t = np.arange(0, t_tot, dt) # How long do we want to let it go for? A few days?\n",
    "    Nt = len(t)\n",
    "    \n",
    "    r = kappa*dt/(dz**2) # Diffusion condition\n",
    "    print(\"Condition on step sizes: \", dt < (dz**2)/2)\n",
    "\n",
    "    T = np.zeros((Nt+1, Nz+2)) # Initialize temp. array\n",
    "\n",
    "    # Set initial condition \n",
    "    T[0,:] = 0\n",
    "     \n",
    "    str_len = 0\n",
    "    # Insert boundary conditions\n",
    "    T[1:,0] = T0*(np.cos(omega*t)+1)\n",
    "    T[1:,-1] = T0*(np.cos(omega*t + np.pi)+1)\n",
    "\n",
    "    for i in range(1, Nt):\n",
    "        \n",
    "        # Compute u at inner mesh points for i in range(1, Nz):\n",
    "        T[i,1:-1] =  T[i-1,1:-1] + r * (T[i-1,2:] - 2*T[i-1,1:-1] + T[i-1,:-2]) \n",
    "                     \n",
    "        str_len = trackPercent(i,Nt,str_len)\n",
    "        str_len += 1\n",
    "\n",
    "        \n",
    "    T = T[:,1:-1]\n",
    "    print(\"T, z shapes: \", T.shape, z.shape)\n",
    "    return T, z, t, L\n"
   ]
  },
  {
   "cell_type": "code",
   "execution_count": 163,
   "id": "8ed923cb",
   "metadata": {},
   "outputs": [
    {
     "name": "stdout",
     "output_type": "stream",
     "text": [
      "Condition on step sizes:  True\n",
      "5.55 % complete "
     ]
    },
    {
     "name": "stderr",
     "output_type": "stream",
     "text": [
      "IOPub message rate exceeded.\n",
      "The notebook server will temporarily stop sending output\n",
      "to the client in order to avoid crashing it.\n",
      "To change this limit, set the config variable\n",
      "`--NotebookApp.iopub_msg_rate_limit`.\n",
      "\n",
      "Current values:\n",
      "NotebookApp.iopub_msg_rate_limit=1000.0 (msgs/sec)\n",
      "NotebookApp.rate_limit_window=3.0 (secs)\n",
      "\n"
     ]
    },
    {
     "name": "stdout",
     "output_type": "stream",
     "text": [
      "23.60 % complete "
     ]
    },
    {
     "name": "stderr",
     "output_type": "stream",
     "text": [
      "IOPub message rate exceeded.\n",
      "The notebook server will temporarily stop sending output\n",
      "to the client in order to avoid crashing it.\n",
      "To change this limit, set the config variable\n",
      "`--NotebookApp.iopub_msg_rate_limit`.\n",
      "\n",
      "Current values:\n",
      "NotebookApp.iopub_msg_rate_limit=1000.0 (msgs/sec)\n",
      "NotebookApp.rate_limit_window=3.0 (secs)\n",
      "\n"
     ]
    },
    {
     "name": "stdout",
     "output_type": "stream",
     "text": [
      "34.63 % complete "
     ]
    },
    {
     "name": "stderr",
     "output_type": "stream",
     "text": [
      "IOPub message rate exceeded.\n",
      "The notebook server will temporarily stop sending output\n",
      "to the client in order to avoid crashing it.\n",
      "To change this limit, set the config variable\n",
      "`--NotebookApp.iopub_msg_rate_limit`.\n",
      "\n",
      "Current values:\n",
      "NotebookApp.iopub_msg_rate_limit=1000.0 (msgs/sec)\n",
      "NotebookApp.rate_limit_window=3.0 (secs)\n",
      "\n"
     ]
    },
    {
     "name": "stdout",
     "output_type": "stream",
     "text": [
      "42.25 % complete "
     ]
    },
    {
     "name": "stderr",
     "output_type": "stream",
     "text": [
      "IOPub message rate exceeded.\n",
      "The notebook server will temporarily stop sending output\n",
      "to the client in order to avoid crashing it.\n",
      "To change this limit, set the config variable\n",
      "`--NotebookApp.iopub_msg_rate_limit`.\n",
      "\n",
      "Current values:\n",
      "NotebookApp.iopub_msg_rate_limit=1000.0 (msgs/sec)\n",
      "NotebookApp.rate_limit_window=3.0 (secs)\n",
      "\n"
     ]
    },
    {
     "name": "stdout",
     "output_type": "stream",
     "text": [
      "50.81 % complete                  "
     ]
    },
    {
     "name": "stderr",
     "output_type": "stream",
     "text": [
      "IOPub message rate exceeded.\n",
      "The notebook server will temporarily stop sending output\n",
      "to the client in order to avoid crashing it.\n",
      "To change this limit, set the config variable\n",
      "`--NotebookApp.iopub_msg_rate_limit`.\n",
      "\n",
      "Current values:\n",
      "NotebookApp.iopub_msg_rate_limit=1000.0 (msgs/sec)\n",
      "NotebookApp.rate_limit_window=3.0 (secs)\n",
      "\n"
     ]
    },
    {
     "name": "stdout",
     "output_type": "stream",
     "text": [
      "59.40 % complete                  "
     ]
    },
    {
     "name": "stderr",
     "output_type": "stream",
     "text": [
      "IOPub message rate exceeded.\n",
      "The notebook server will temporarily stop sending output\n",
      "to the client in order to avoid crashing it.\n",
      "To change this limit, set the config variable\n",
      "`--NotebookApp.iopub_msg_rate_limit`.\n",
      "\n",
      "Current values:\n",
      "NotebookApp.iopub_msg_rate_limit=1000.0 (msgs/sec)\n",
      "NotebookApp.rate_limit_window=3.0 (secs)\n",
      "\n"
     ]
    },
    {
     "name": "stdout",
     "output_type": "stream",
     "text": [
      "86.87 % complete                                                                     "
     ]
    },
    {
     "name": "stderr",
     "output_type": "stream",
     "text": [
      "IOPub message rate exceeded.\n",
      "The notebook server will temporarily stop sending output\n",
      "to the client in order to avoid crashing it.\n",
      "To change this limit, set the config variable\n",
      "`--NotebookApp.iopub_msg_rate_limit`.\n",
      "\n",
      "Current values:\n",
      "NotebookApp.iopub_msg_rate_limit=1000.0 (msgs/sec)\n",
      "NotebookApp.rate_limit_window=3.0 (secs)\n",
      "\n"
     ]
    },
    {
     "name": "stdout",
     "output_type": "stream",
     "text": [
      "95.32 % complete                  93.36 % complete"
     ]
    },
    {
     "name": "stderr",
     "output_type": "stream",
     "text": [
      "IOPub message rate exceeded.\n",
      "The notebook server will temporarily stop sending output\n",
      "to the client in order to avoid crashing it.\n",
      "To change this limit, set the config variable\n",
      "`--NotebookApp.iopub_msg_rate_limit`.\n",
      "\n",
      "Current values:\n",
      "NotebookApp.iopub_msg_rate_limit=1000.0 (msgs/sec)\n",
      "NotebookApp.rate_limit_window=3.0 (secs)\n",
      "\n"
     ]
    },
    {
     "name": "stdout",
     "output_type": "stream",
     "text": [
      "100.00 % complete                 T, z shapes:  (50001, 100) (100,)\n"
     ]
    }
   ],
   "source": [
    "L=10\n",
    "t_tot=100\n",
    "test = pde_solver(L=100, t_tot=5000, T0=3, kappa=2, dt=0.1, dz=1, omega=2.3e-3)"
   ]
  },
  {
   "cell_type": "code",
   "execution_count": 165,
   "id": "0d9a5da5",
   "metadata": {},
   "outputs": [
    {
     "data": {
      "text/plain": [
       "<matplotlib.colorbar.Colorbar at 0x18376ba60>"
      ]
     },
     "execution_count": 165,
     "metadata": {},
     "output_type": "execute_result"
    },
    {
     "data": {
      "image/png": "[encoded data removed]",
      "text/plain": [
       "<Figure size 576x576 with 2 Axes>"
      ]
     },
     "metadata": {
      "needs_background": "light"
     },
     "output_type": "display_data"
    }
   ],
   "source": [
    "plt.figure(figsize=(8,8))\n",
    "plt.imshow(test[0].T, aspect=0.1,origin='lower',extent=(0,L,0,t_tot))\n",
    "plt.ylabel('Length'); plt.xlabel('Time')\n",
    "plt.colorbar()"
   ]
  },
  {
   "cell_type": "markdown",
   "id": "5cfd8a63",
   "metadata": {},
   "source": [
    "## <center> What next:\n",
    "    * Explore parameter space and understand what's happening\n",
    "    * Compare analytic solution\n",
    "    * Add new terms:\n",
    "        * Radiative losses\n",
    "        * Other physics?\n",
    "    * Try implementing RK2?\n",
    "        * Error analysis comparison\n",
    "  "
   ]
  }
 ],
 "metadata": {
  "kernelspec": {
   "display_name": "Python 3 (ipykernel)",
   "language": "python",
   "name": "python3"
  },
  "language_info": {
   "codemirror_mode": {
    "name": "ipython",
    "version": 3
   },
   "file_extension": ".py",
   "mimetype": "text/x-python",
   "name": "python",
   "nbconvert_exporter": "python",
   "pygments_lexer": "ipython3",
   "version": "3.9.9"
  }
 },
 "nbformat": 4,
 "nbformat_minor": 5
}
